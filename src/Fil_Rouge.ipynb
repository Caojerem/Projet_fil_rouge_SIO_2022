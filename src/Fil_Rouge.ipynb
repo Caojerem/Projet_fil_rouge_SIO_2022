{
 "cells": [
  {
   "cell_type": "markdown",
   "metadata": {},
   "source": [
    "# Téléchargement des PDF sur Arkiv"
   ]
  },
  {
   "cell_type": "code",
   "execution_count": 3,
   "metadata": {},
   "outputs": [
    {
     "name": "stdout",
     "output_type": "stream",
     "text": [
      "Titre : Generating Fast and Slow: Scene Decomposition via Reconstruction\n",
      "Auteurs : [arxiv.Result.Author('Mihir Prabhudesai'), arxiv.Result.Author('Anirudh Goyal'), arxiv.Result.Author('Deepak Pathak'), arxiv.Result.Author('Katerina Fragkiadaki')]\n",
      "Lien : http://arxiv.org/pdf/2203.11194v1\n"
     ]
    }
   ],
   "source": [
    "import arxiv\n",
    "import urllib\n"
   ]
  },
  {
   "cell_type": "code",
   "execution_count": null,
   "metadata": {},
   "outputs": [],
   "source": [
    "#Utilisation de la librairie ArXiv pou récupérer le lien des pdf\n",
    "\n",
    "search = arxiv.Search(\n",
    "    query = \"computer science &  ai\",\n",
    "    max_results = 1,\n",
    "    sort_by = arxiv.SortCriterion.SubmittedDate\n",
    ")\n",
    "\n",
    "for result in search.results():\n",
    "    print (\"Titre :\", result.title)\n",
    "    print (\"Auteurs :\", result.authors)\n",
    "    print (\"Lien :\", result.pdf_url)"
   ]
  },
  {
   "cell_type": "code",
   "execution_count": null,
   "metadata": {},
   "outputs": [],
   "source": []
  }
 ],
 "metadata": {
  "interpreter": {
   "hash": "102e1a2b2b206be7da3552768dc0a5198c57d5a20116016c35db6323ca3d0506"
  },
  "kernelspec": {
   "display_name": ".venv",
   "language": "python",
   "name": ".venv"
  },
  "language_info": {
   "codemirror_mode": {
    "name": "ipython",
    "version": 3
   },
   "file_extension": ".py",
   "mimetype": "text/x-python",
   "name": "python",
   "nbconvert_exporter": "python",
   "pygments_lexer": "ipython3",
   "version": "3.8.10"
  },
  "orig_nbformat": 4
 },
 "nbformat": 4,
 "nbformat_minor": 2
}
