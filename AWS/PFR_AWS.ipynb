{
 "cells": [
  {
   "cell_type": "code",
   "execution_count": 9,
   "metadata": {},
   "outputs": [],
   "source": [
    "import boto3\n",
    "import json\n",
    "import arxiv\n",
    "import urllib\n",
    "import pdfx"
   ]
  },
  {
   "cell_type": "code",
   "execution_count": 10,
   "metadata": {},
   "outputs": [
    {
     "name": "stdout",
     "output_type": "stream",
     "text": [
      "Titre : Unsupervised Prompt Learning for Vision-Language Models\n",
      "Auteurs : [arxiv.Result.Author('Tony Huang'), arxiv.Result.Author('Jack Chu'), arxiv.Result.Author('Fangyun Wei')]\n",
      "Lien : http://arxiv.org/pdf/2204.03649v1\n"
     ]
    }
   ],
   "source": [
    "search = arxiv.Search(\n",
    "    query = \"computer science &  ai\",\n",
    "    # id_list=[\"1605.08386v1\"]\n",
    "    max_results = 1,\n",
    "    sort_by = arxiv.SortCriterion.SubmittedDate\n",
    ")\n",
    "\n",
    "for result in search.results():\n",
    "    print (\"Titre :\", result.title)\n",
    "    print (\"Auteurs :\", result.authors)\n",
    "    print (\"Lien :\", result.pdf_url)"
   ]
  },
  {
   "cell_type": "code",
   "execution_count": 11,
   "metadata": {},
   "outputs": [],
   "source": [
    "response = urllib.request.urlopen(result.pdf_url)    \n",
    "file = open(\"Test\" + \".pdf\", 'wb')\n",
    "file.write(response.read())\n",
    "file.close()\n",
    "\n",
    "filename = 'Test.pdf'"
   ]
  },
  {
   "cell_type": "markdown",
   "metadata": {},
   "source": [
    "## Lecture du PDF"
   ]
  },
  {
   "cell_type": "markdown",
   "metadata": {},
   "source": [
    "### Pour mettre un PDF au choix, décommenter et indiquer le path"
   ]
  },
  {
   "cell_type": "code",
   "execution_count": 12,
   "metadata": {},
   "outputs": [],
   "source": [
    "# filename = '...'"
   ]
  },
  {
   "cell_type": "code",
   "execution_count": 13,
   "metadata": {},
   "outputs": [],
   "source": [
    "pdf = pdfx.PDFx(filename)\n",
    "metadata = pdf.get_metadata()\n",
    "references_dict = pdf.get_references_as_dict()\n",
    "text = pdf.get_text()"
   ]
  },
  {
   "cell_type": "code",
   "execution_count": 14,
   "metadata": {},
   "outputs": [],
   "source": [
    "def after_references(mypdftext): \n",
    "    keyword1 = 'References'\n",
    "    keyword2 = 'REFERENCES'\n",
    "    keyword3 = 'R EFERENCES'\n",
    "    keyword4 = 'Reference'\n",
    "    keyword5='[1]' \n",
    "\n",
    "    if keyword1 in mypdftext :\n",
    "            before_keyword, keyword, after_keyword = mypdftext.partition(keyword1)\n",
    "    elif keyword2 in mypdftext :\n",
    "            before_keyword, keyword, after_keyword = mypdftext.partition(keyword2)\n",
    "    elif keyword3 in mypdftext :\n",
    "            before_keyword, keyword, after_keyword = mypdftext.partition(keyword3)\n",
    "    elif keyword4 in mypdftext :\n",
    "            before_keyword, keyword, after_keyword = mypdftext.partition(keyword4)\n",
    "    elif keyword5 in mypdftext :\n",
    "            before_keyword, keyword, after_keyword = mypdftext.partition(keyword5)\n",
    "    else:\n",
    "        after_keyword = mypdftext[:10000]\n",
    "    return after_keyword\n",
    "\n",
    "#All references in a variable\n",
    "\n",
    "references = after_references(text)"
   ]
  },
  {
   "cell_type": "code",
   "execution_count": 15,
   "metadata": {},
   "outputs": [
    {
     "name": "stdout",
     "output_type": "stream",
     "text": [
      "\n",
      "\n",
      "1. Automated flower classification over a large number of classes. In: 2008 Sixth Indian\n",
      "Conference on Computer Vision, Graphics & Image Processing. pp. 722–729. IEEE\n",
      "(2008)\n",
      "\n",
      "2. Bossard, L., Guillaumin, M., Van Gool, L.: Food-101–mining discriminative com-\n",
      "ponents with random forests. In: European conference on computer vision. pp.\n",
      "446–461. Springer (2014)\n",
      "\n",
      "3. Chen, T., Kornblith, S., Norouzi, M., Hinton, G.: A simple framework for con-\n",
      "trastive learning of visual representations. In: Internat\n"
     ]
    }
   ],
   "source": [
    "print (references[:500])"
   ]
  },
  {
   "cell_type": "markdown",
   "metadata": {},
   "source": [
    "# AWS Comprehend"
   ]
  },
  {
   "cell_type": "markdown",
   "metadata": {},
   "source": [
    "## Indiquez vos identifiants d'access"
   ]
  },
  {
   "cell_type": "code",
   "execution_count": 16,
   "metadata": {},
   "outputs": [],
   "source": [
    "ACCESS_ID='...'\n",
    "ACCESS_KEY='...'\n",
    "session_token='...'"
   ]
  },
  {
   "cell_type": "markdown",
   "metadata": {},
   "source": [
    "#### Access Personnel (A laisser en commentaire)"
   ]
  },
  {
   "cell_type": "code",
   "execution_count": 17,
   "metadata": {},
   "outputs": [],
   "source": [
    "# Access Personnel\n",
    "\n",
    "# import toml\n",
    "\n",
    "# access = toml.load('aws_access.toml')\n",
    "\n",
    "# ACCESS_ID=access['default']['aws_access_key_id']\n",
    "# ACCESS_KEY=access['default']['aws_secret_access_key']\n",
    "# session_token=access['default']['aws_session_token']"
   ]
  },
  {
   "cell_type": "code",
   "execution_count": 18,
   "metadata": {},
   "outputs": [
    {
     "name": "stdout",
     "output_type": "stream",
     "text": [
      "[{\"id\": 0, \"Person\": \"Bossard, L.\"}, {\"id\": 1, \"Person\": \"Chen, T.\"}, {\"id\": 2, \"Person\": \"Kornblith, S.\"}, {\"id\": 3, \"Person\": \"Norouzi, M.\"}, {\"id\": 4, \"Person\": \"Hinton, G.\"}, {\"id\": 5, \"Person\": \"Chen, X.\"}, {\"id\": 6, \"Person\": \"Kokkinos, I.\"}, {\"id\": 7, \"Person\": \"Mohamed, S.\"}, {\"id\": 8, \"Person\": \"Deng, J.\"}, {\"id\": 9, \"Person\": \"Tony Huang1\\u2217\"}, {\"id\": 10, \"Person\": \"Jack Chu1\\u2217\"}, {\"id\": 11, \"Person\": \"Dosovitskiy, A.\"}, {\"id\": 12, \"Person\": \"Beyer, L.\"}, {\"id\": 13, \"Person\": \"Kolesnikov, A.\"}, {\"id\": 14, \"Person\": \"Weissenborn, D.\"}, {\"id\": 15, \"Person\": \"Gelly, S.\"}, {\"id\": 16, \"Person\": \"Buchatskaya\"}, {\"id\": 17, \"Person\": \"Doer-\\nsch\"}, {\"id\": 18, \"Person\": \"Avila Pires\"}]\n"
     ]
    }
   ],
   "source": [
    "\n",
    "comprehend = boto3.client(service_name='comprehend', region_name='us-east-1',aws_access_key_id=ACCESS_ID,\n",
    "                                            aws_secret_access_key= ACCESS_KEY,aws_session_token=session_token\n",
    ")\n",
    "\n",
    "\n",
    "results = comprehend.detect_entities(Text=references[:3000], LanguageCode='en')\n",
    "\n",
    "clean_results = []\n",
    "i=0\n",
    "for r in results['Entities']:\n",
    "    line={}\n",
    "    if r[\"Type\"] == \"PERSON\" and r[\"Score\"] > 0.95:\n",
    "        line['id'] = i\n",
    "        line['Person']= r['Text']\n",
    "        clean_results.append(line)\n",
    "        i += 1\n",
    "\n",
    "print(json.dumps(clean_results))\n"
   ]
  }
 ],
 "metadata": {
  "interpreter": {
   "hash": "4e5d60873b54db1eb20ac7d38e7b58ae3c978846515c1c94824ebf7ac025276d"
  },
  "kernelspec": {
   "display_name": "Python 3.8.10 ('.venv': venv)",
   "language": "python",
   "name": "python3"
  },
  "language_info": {
   "codemirror_mode": {
    "name": "ipython",
    "version": 3
   },
   "file_extension": ".py",
   "mimetype": "text/x-python",
   "name": "python",
   "nbconvert_exporter": "python",
   "pygments_lexer": "ipython3",
   "version": "3.8.10"
  },
  "orig_nbformat": 4
 },
 "nbformat": 4,
 "nbformat_minor": 2
}
