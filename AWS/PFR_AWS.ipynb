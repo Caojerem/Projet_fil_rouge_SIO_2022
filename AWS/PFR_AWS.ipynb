{
 "cells": [
  {
   "cell_type": "code",
   "execution_count": 10,
   "metadata": {},
   "outputs": [],
   "source": [
    "import boto3\n",
    "import json\n",
    "import arxiv\n",
    "import urllib\n",
    "import pdfx"
   ]
  },
  {
   "cell_type": "code",
   "execution_count": 11,
   "metadata": {},
   "outputs": [
    {
     "name": "stdout",
     "output_type": "stream",
     "text": [
      "Titre : Temporal Alignment Networks for Long-term Video\n",
      "Auteurs : [arxiv.Result.Author('Tengda Han'), arxiv.Result.Author('Weidi Xie'), arxiv.Result.Author('Andrew Zisserman')]\n",
      "Lien : http://arxiv.org/pdf/2204.02968v1\n"
     ]
    }
   ],
   "source": [
    "search = arxiv.Search(\n",
    "    query = \"computer science &  ai\",\n",
    "    # id_list=[\"1605.08386v1\"]\n",
    "    max_results = 1,\n",
    "    sort_by = arxiv.SortCriterion.SubmittedDate\n",
    ")\n",
    "\n",
    "for result in search.results():\n",
    "    print (\"Titre :\", result.title)\n",
    "    print (\"Auteurs :\", result.authors)\n",
    "    print (\"Lien :\", result.pdf_url)"
   ]
  },
  {
   "cell_type": "code",
   "execution_count": 12,
   "metadata": {},
   "outputs": [],
   "source": [
    "response = urllib.request.urlopen(result.pdf_url)    \n",
    "file = open(\"Test\" + \".pdf\", 'wb')\n",
    "file.write(response.read())\n",
    "file.close()\n",
    "\n",
    "filename = 'Test.pdf'"
   ]
  },
  {
   "cell_type": "markdown",
   "metadata": {},
   "source": [
    "## Lecture du PDF"
   ]
  },
  {
   "cell_type": "markdown",
   "metadata": {},
   "source": [
    "### Pour mettre un PDF au choix, décommenter et indiquer le path"
   ]
  },
  {
   "cell_type": "code",
   "execution_count": 13,
   "metadata": {},
   "outputs": [],
   "source": [
    "# filename = '...'"
   ]
  },
  {
   "cell_type": "code",
   "execution_count": 14,
   "metadata": {},
   "outputs": [],
   "source": [
    "pdf = pdfx.PDFx(filename)\n",
    "metadata = pdf.get_metadata()\n",
    "references_dict = pdf.get_references_as_dict()\n",
    "text = pdf.get_text()"
   ]
  },
  {
   "cell_type": "code",
   "execution_count": 15,
   "metadata": {},
   "outputs": [],
   "source": [
    "def after_references(mypdftext): \n",
    "    keyword1 = 'References'\n",
    "    keyword2 = 'REFERENCES'\n",
    "    keyword3 = 'R EFERENCES'\n",
    "    keyword4 = 'Reference'\n",
    "    keyword5='[1]' \n",
    "\n",
    "    if keyword1 in mypdftext :\n",
    "            before_keyword, keyword, after_keyword = mypdftext.partition(keyword1)\n",
    "    elif keyword2 in mypdftext :\n",
    "            before_keyword, keyword, after_keyword = mypdftext.partition(keyword2)\n",
    "    elif keyword3 in mypdftext :\n",
    "            before_keyword, keyword, after_keyword = mypdftext.partition(keyword3)\n",
    "    elif keyword4 in mypdftext :\n",
    "            before_keyword, keyword, after_keyword = mypdftext.partition(keyword4)\n",
    "    elif keyword5 in mypdftext :\n",
    "            before_keyword, keyword, after_keyword = mypdftext.partition(keyword5)\n",
    "    else:\n",
    "        after_keyword = mypdftext[:10000]\n",
    "    return after_keyword\n",
    "\n",
    "#All references in a variable\n",
    "\n",
    "references = after_references(text)"
   ]
  },
  {
   "cell_type": "markdown",
   "metadata": {},
   "source": [
    "# AWS Comprehend"
   ]
  },
  {
   "cell_type": "markdown",
   "metadata": {},
   "source": [
    "## Indiquez vos identifiants d'access"
   ]
  },
  {
   "cell_type": "code",
   "execution_count": 16,
   "metadata": {},
   "outputs": [],
   "source": [
    "ACCESS_ID='...'\n",
    "ACCESS_KEY='...'\n",
    "session_token='...'"
   ]
  },
  {
   "cell_type": "markdown",
   "metadata": {},
   "source": [
    "#### Access Personnel (A laisser en commentaire)"
   ]
  },
  {
   "cell_type": "code",
   "execution_count": 17,
   "metadata": {},
   "outputs": [],
   "source": [
    "# Access Personnel\n",
    "\n",
    "# import toml\n",
    "\n",
    "# access = toml.load('aws_access.toml')\n",
    "\n",
    "# ACCESS_ID=access['default']['aws_access_key_id']\n",
    "# ACCESS_KEY=access['default']['aws_secret_access_key']\n",
    "# session_token=access['default']['aws_session_token']"
   ]
  },
  {
   "cell_type": "code",
   "execution_count": 28,
   "metadata": {},
   "outputs": [
    {
     "name": "stdout",
     "output_type": "stream",
     "text": [
      "[{\"id\": 0, \"Person\": \"Yuki M. Asano\"}, {\"id\": 1, \"Person\": \"Christian Rupprecht\"}, {\"id\": 2, \"Person\": \"Andrea Vedaldi\"}, {\"id\": 3, \"Person\": \"Max Bain\"}, {\"id\": 4, \"Person\": \"Arsha Nagrani\"}, {\"id\": 5, \"Person\": \"G\\u00a8ul Varol\"}, {\"id\": 6, \"Person\": \"Andrew Zisser\"}, {\"id\": 7, \"Person\": \"Subhabrata Bhattacharya\"}, {\"id\": 8, \"Person\": \"Mahdi M. Kalayeh\"}, {\"id\": 9, \"Person\": \"Rahul Suk-\\nthankar\"}, {\"id\": 10, \"Person\": \"Mubarak Shah\"}, {\"id\": 11, \"Person\": \"Avrim Blum\"}, {\"id\": 12, \"Person\": \"Tom Mitchell\"}, {\"id\": 13, \"Person\": \"Piotr Bojanowski\"}, {\"id\": 14, \"Person\": \"R\\u00b4emi Lajugie\"}, {\"id\": 15, \"Person\": \"Francis Bach\"}, {\"id\": 16, \"Person\": \"Ivan Laptev\"}, {\"id\": 17, \"Person\": \"Jean Ponce\"}, {\"id\": 18, \"Person\": \"Cordelia Schmid\"}, {\"id\": 19, \"Person\": \"Josef Sivic\"}, {\"id\": 20, \"Person\": \"Piotr Bojanowski\"}, {\"id\": 21, \"Person\": \"R\\u00b4emi Lajugie\"}, {\"id\": 22, \"Person\": \"Edouard Grave\"}, {\"id\": 23, \"Person\": \"Fran-\\ncis Bach\"}, {\"id\": 24, \"Person\": \"Ivan Laptev\"}, {\"id\": 25, \"Person\": \"Jean Ponce\"}, {\"id\": 26, \"Person\": \"Cordelia Schmid\"}, {\"id\": 27, \"Person\": \"Mathilde Caron\"}, {\"id\": 28, \"Person\": \"Piotr Bojanowski\"}, {\"id\": 29, \"Person\": \"Armand Joulin\"}, {\"id\": 30, \"Person\": \"Matthijs Douze\"}, {\"id\": 31, \"Person\": \"Mathilde Caron\"}, {\"id\": 32, \"Person\": \"Ishan Misra\"}, {\"id\": 33, \"Person\": \"Julien Mairal\"}, {\"id\": 34, \"Person\": \"Priya Goyal\"}, {\"id\": 35, \"Person\": \"Pi-\\notr Bojanowski\"}, {\"id\": 36, \"Person\": \"Armand Joulin\"}, {\"id\": 37, \"Person\": \"Chien-Yi Chang\"}, {\"id\": 38, \"Person\": \"De-An Huang\"}, {\"id\": 39, \"Person\": \"Yanan Sui\"}, {\"id\": 40, \"Person\": \"Li Fei-Fei\"}, {\"id\": 41, \"Person\": \"Juan Carlos Niebles\"}, {\"id\": 42, \"Person\": \"Xiaobin Chang\"}, {\"id\": 43, \"Person\": \"Frederick Tung\"}, {\"id\": 44, \"Person\": \"Greg Mori\"}, {\"id\": 45, \"Person\": \"Yu-Wei Chao\"}, {\"id\": 46, \"Person\": \"Sudheendra Vijayanarasimhan\"}, {\"id\": 47, \"Person\": \"Bryan Sey-\\nbold\"}, {\"id\": 48, \"Person\": \"David A. Ross\"}, {\"id\": 49, \"Person\": \"Jia Deng\"}, {\"id\": 50, \"Person\": \"Rahul Sukthankar\"}, {\"id\": 51, \"Person\": \"Min-Hung Chen\"}, {\"id\": 52, \"Person\": \"Baopu Li\"}, {\"id\": 53, \"Person\": \"Yingze Bao\"}, {\"id\": 54, \"Person\": \"Ghassan Al-\\nRegib\"}, {\"id\": 55, \"Person\": \"Zsolt Kira\"}, {\"id\": 56, \"Person\": \"Yen-Chun Chen\"}, {\"id\": 57, \"Person\": \"Linjie Li\"}, {\"id\": 58, \"Person\": \"Licheng Yu\"}, {\"id\": 59, \"Person\": \"Ahmed El Kholy\"}, {\"id\": 60, \"Person\": \"Faisal Ahmed\"}, {\"id\": 61, \"Person\": \"Yu Cheng Zhe Gan\"}, {\"id\": 62, \"Person\": \"Jingjing Liu\"}, {\"id\": 63, \"Person\": \"Ramazan Gokberk Cinbis\"}, {\"id\": 64, \"Person\": \"Jakob J. Verbeek\"}, {\"id\": 65, \"Person\": \"Cordelia\\nSchmid\"}, {\"id\": 66, \"Person\": \"Timothee Cour\"}, {\"id\": 67, \"Person\": \"Chris Jordan\"}, {\"id\": 68, \"Person\": \"Eleni Miltsakaki\"}, {\"id\": 69, \"Person\": \"Ben\\nTaskar\"}, {\"id\": 70, \"Person\": \"Marco Cuturi\"}, {\"id\": 71, \"Person\": \"Mathieu Blondel\"}, {\"id\": 72, \"Person\": \"Dima Damen\"}, {\"id\": 73, \"Person\": \"Hazel Doughty\"}, {\"id\": 74, \"Person\": \"Giovanni Maria Farinella\"}, {\"id\": 75, \"Person\": \"Antonino Furnari\"}, {\"id\": 76, \"Person\": \"Jian Ma\"}, {\"id\": 77, \"Person\": \"Evangelos Kazakos\"}, {\"id\": 78, \"Person\": \"Davide\\nMoltisanti\"}, {\"id\": 79, \"Person\": \"Jonathan Munro\"}, {\"id\": 80, \"Person\": \"Toby\"}]\n"
     ]
    }
   ],
   "source": [
    "\n",
    "comprehend = boto3.client(service_name='comprehend', region_name='us-east-1',aws_access_key_id=ACCESS_ID,\n",
    "                                            aws_secret_access_key= ACCESS_KEY,aws_session_token=session_token\n",
    ")\n",
    "\n",
    "\n",
    "results = comprehend.detect_entities(Text=references[:3000], LanguageCode='en')\n",
    "\n",
    "clean_results = []\n",
    "i=0\n",
    "for r in results['Entities']:\n",
    "    line={}\n",
    "    if r[\"Type\"] == \"PERSON\" and r[\"Score\"] > 0.95:\n",
    "        line['id'] = i\n",
    "        line['Person']= r['Text']\n",
    "        clean_results.append(line)\n",
    "        i += 1\n",
    "\n",
    "print(json.dumps(clean_results))\n"
   ]
  }
 ],
 "metadata": {
  "interpreter": {
   "hash": "4e5d60873b54db1eb20ac7d38e7b58ae3c978846515c1c94824ebf7ac025276d"
  },
  "kernelspec": {
   "display_name": "Python 3.8.10 ('.venv': venv)",
   "language": "python",
   "name": "python3"
  },
  "language_info": {
   "codemirror_mode": {
    "name": "ipython",
    "version": 3
   },
   "file_extension": ".py",
   "mimetype": "text/x-python",
   "name": "python",
   "nbconvert_exporter": "python",
   "pygments_lexer": "ipython3",
   "version": "3.8.10"
  },
  "orig_nbformat": 4
 },
 "nbformat": 4,
 "nbformat_minor": 2
}
